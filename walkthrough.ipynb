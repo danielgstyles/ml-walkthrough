{
 "cells": [
  {
   "cell_type": "markdown",
   "id": "5b56ac30",
   "metadata": {},
   "source": [
    "# ML Walkthrough — Simplified Datasets (Codespaces)\n",
    "**Fully annotated • Teacher solutions • Edit points • Highlighted outputs**  \n",
    "_Last updated: 2025-09-16 10:47_\n",
    "\n",
    "Each model has a single, clearly marked **`# 👈 EDIT THIS`** line to change the input that is predicted.  \n",
    "Below each result you’ll find **Explaining the output** (what the numbers mean + what “good” looks like) and a **Try it yourself** box."
   ]
  },
  {
   "cell_type": "markdown",
   "id": "d292e852",
   "metadata": {},
   "source": [
    "## 0) One-time setup\n",
    "In a Codespaces terminal:\n",
    "```bash\n",
    "python -m venv .venv\n",
    "source .venv/bin/activate   # Windows PowerShell: .venv\\Scripts\\activate\n",
    "pip install --upgrade pip\n",
    "pip install -r requirements.txt\n",
    "```\n",
    "Then restart the kernel so Jupyter sees the packages."
   ]
  },
  {
   "cell_type": "markdown",
   "id": "084d97c2",
   "metadata": {},
   "source": [
    "## 1) Imports & versions"
   ]
  },
  {
   "cell_type": "code",
   "execution_count": 2,
   "id": "5226c241",
   "metadata": {},
   "outputs": [
    {
     "name": "stdout",
     "output_type": "stream",
     "text": [
      "NumPy 2.3.3\n",
      "Pandas 2.3.2\n",
      "Matplotlib 3.10.6\n"
     ]
    }
   ],
   "source": [
    "import numpy as np, pandas as pd\n",
    "import matplotlib.pyplot as plt\n",
    "from IPython.display import display, HTML\n",
    "\n",
    "from sklearn.model_selection import train_test_split, cross_val_score\n",
    "from sklearn.metrics import (mean_absolute_error, r2_score, accuracy_score,\n",
    "                             classification_report, confusion_matrix)\n",
    "from sklearn.preprocessing import StandardScaler, PolynomialFeatures\n",
    "from sklearn.pipeline import Pipeline\n",
    "from sklearn.linear_model import LinearRegression, LogisticRegression\n",
    "from sklearn.neighbors import KNeighborsClassifier\n",
    "from sklearn.cluster import KMeans\n",
    "from sklearn.tree import DecisionTreeClassifier, export_text\n",
    "from sklearn.neural_network import MLPClassifier\n",
    "from sklearn.semi_supervised import LabelSpreading\n",
    "import joblib\n",
    "\n",
    "print(\"NumPy\", np.__version__)\n",
    "print(\"Pandas\", pd.__version__)\n",
    "print(\"Matplotlib\", plt.matplotlib.__version__)\n",
    "%matplotlib inline"
   ]
  },
  {
   "cell_type": "markdown",
   "id": "063a40ac",
   "metadata": {},
   "source": [
    "## 2) Linear Regression — Study hours → Final mark"
   ]
  },
  {
   "cell_type": "code",
   "execution_count": 3,
   "id": "3020222d",
   "metadata": {},
   "outputs": [
    {
     "data": {
      "text/html": [
       "<div>\n",
       "<style scoped>\n",
       "    .dataframe tbody tr th:only-of-type {\n",
       "        vertical-align: middle;\n",
       "    }\n",
       "\n",
       "    .dataframe tbody tr th {\n",
       "        vertical-align: top;\n",
       "    }\n",
       "\n",
       "    .dataframe thead th {\n",
       "        text-align: right;\n",
       "    }\n",
       "</style>\n",
       "<table border=\"1\" class=\"dataframe\">\n",
       "  <thead>\n",
       "    <tr style=\"text-align: right;\">\n",
       "      <th></th>\n",
       "      <th>hours</th>\n",
       "      <th>final_mark</th>\n",
       "    </tr>\n",
       "  </thead>\n",
       "  <tbody>\n",
       "    <tr>\n",
       "      <th>0</th>\n",
       "      <td>0.5</td>\n",
       "      <td>35</td>\n",
       "    </tr>\n",
       "    <tr>\n",
       "      <th>1</th>\n",
       "      <td>1.0</td>\n",
       "      <td>40</td>\n",
       "    </tr>\n",
       "    <tr>\n",
       "      <th>2</th>\n",
       "      <td>2.0</td>\n",
       "      <td>45</td>\n",
       "    </tr>\n",
       "    <tr>\n",
       "      <th>3</th>\n",
       "      <td>2.5</td>\n",
       "      <td>50</td>\n",
       "    </tr>\n",
       "    <tr>\n",
       "      <th>4</th>\n",
       "      <td>3.0</td>\n",
       "      <td>55</td>\n",
       "    </tr>\n",
       "    <tr>\n",
       "      <th>5</th>\n",
       "      <td>4.0</td>\n",
       "      <td>62</td>\n",
       "    </tr>\n",
       "    <tr>\n",
       "      <th>6</th>\n",
       "      <td>4.5</td>\n",
       "      <td>66</td>\n",
       "    </tr>\n",
       "    <tr>\n",
       "      <th>7</th>\n",
       "      <td>5.0</td>\n",
       "      <td>70</td>\n",
       "    </tr>\n",
       "    <tr>\n",
       "      <th>8</th>\n",
       "      <td>6.0</td>\n",
       "      <td>75</td>\n",
       "    </tr>\n",
       "    <tr>\n",
       "      <th>9</th>\n",
       "      <td>7.0</td>\n",
       "      <td>82</td>\n",
       "    </tr>\n",
       "    <tr>\n",
       "      <th>10</th>\n",
       "      <td>8.0</td>\n",
       "      <td>88</td>\n",
       "    </tr>\n",
       "    <tr>\n",
       "      <th>11</th>\n",
       "      <td>9.0</td>\n",
       "      <td>92</td>\n",
       "    </tr>\n",
       "  </tbody>\n",
       "</table>\n",
       "</div>"
      ],
      "text/plain": [
       "    hours  final_mark\n",
       "0     0.5          35\n",
       "1     1.0          40\n",
       "2     2.0          45\n",
       "3     2.5          50\n",
       "4     3.0          55\n",
       "5     4.0          62\n",
       "6     4.5          66\n",
       "7     5.0          70\n",
       "8     6.0          75\n",
       "9     7.0          82\n",
       "10    8.0          88\n",
       "11    9.0          92"
      ]
     },
     "metadata": {},
     "output_type": "display_data"
    },
    {
     "name": "stdout",
     "output_type": "stream",
     "text": [
      "Test MAE: 1.20 marks  |  R^2: 0.996\n",
      "Slope (marks per extra hour): 6.711 | Intercept: 34.075\n"
     ]
    },
    {
     "name": "stderr",
     "output_type": "stream",
     "text": [
      "/workspaces/ml-walkthrough/.venv/lib/python3.12/site-packages/sklearn/utils/validation.py:2749: UserWarning: X does not have valid feature names, but LinearRegression was fitted with feature names\n",
      "  warnings.warn(\n",
      "/workspaces/ml-walkthrough/.venv/lib/python3.12/site-packages/sklearn/utils/validation.py:2749: UserWarning: X does not have valid feature names, but LinearRegression was fitted with feature names\n",
      "  warnings.warn(\n",
      "/workspaces/ml-walkthrough/.venv/lib/python3.12/site-packages/sklearn/utils/validation.py:2749: UserWarning: X does not have valid feature names, but LinearRegression was fitted with feature names\n",
      "  warnings.warn(\n"
     ]
    },
    {
     "data": {
      "image/png": "[encoded data removed]",
      "text/plain": [
       "<Figure size 640x480 with 1 Axes>"
      ]
     },
     "metadata": {},
     "output_type": "display_data"
    },
    {
     "data": {
      "text/html": [
       "<b>Prediction:</b> For <span style='color:#d32f2f;font-weight:bold'>6 hours</span> → predicted final mark ≈ <span style='color:#d32f2f;font-weight:bold'>74.3</span>/100"
      ],
      "text/plain": [
       "<IPython.core.display.HTML object>"
      ]
     },
     "metadata": {},
     "output_type": "display_data"
    }
   ],
   "source": [
    "# STEP 1: PREPARE DATA (raw)\n",
    "data_lin = pd.DataFrame({\n",
    "    \"hours\": [0.5, 1, 2, 2.5, 3, 4, 4.5, 5, 6, 7, 8, 9],\n",
    "    \"final_mark\": [35, 40, 45, 50, 55, 62, 66, 70, 75, 82, 88, 92],\n",
    "})\n",
    "display(data_lin)\n",
    "\n",
    "X = data_lin[[\"hours\"]]\n",
    "y = data_lin[\"final_mark\"]\n",
    "Xtr_lin, Xte_lin, ytr_lin, yte_lin = train_test_split(X, y, test_size=0.25, random_state=42)\n",
    "\n",
    "# STEP 2–3: BUILD + TRAIN\n",
    "linreg = LinearRegression().fit(Xtr_lin, ytr_lin)\n",
    "\n",
    "# STEP 4: EVALUATE\n",
    "yhat_lin = linreg.predict(Xte_lin)\n",
    "mae_lin = mean_absolute_error(yte_lin, yhat_lin)\n",
    "r2_lin  = r2_score(yte_lin, yhat_lin)\n",
    "print(f\"Test MAE: {mae_lin:.2f} marks  |  R^2: {r2_lin:.3f}\")\n",
    "print(f\"Slope (marks per extra hour): {linreg.coef_[0]:.3f} | Intercept: {linreg.intercept_:.3f}\")\n",
    "\n",
    "# STEP 5: OUTPUT — EDIT THIS LINE to change the hours we predict for\n",
    "TEST_HOURS = 6   # 👈 EDIT THIS\n",
    "pred_mark = linreg.predict(np.array([[TEST_HOURS]]))[0]\n",
    "\n",
    "# Plot: data + fitted line + your test point\n",
    "xx = np.linspace(X[\"hours\"].min(), X[\"hours\"].max(), 200).reshape(-1,1)\n",
    "yy = linreg.predict(xx)\n",
    "plt.figure()\n",
    "plt.scatter(X[\"hours\"], y, label=\"data\", s=30)\n",
    "plt.plot(xx[:,0], yy, label=\"linear fit\")\n",
    "plt.scatter([TEST_HOURS], [linreg.predict([[TEST_HOURS]])[0]], color=\"red\", s=120, marker=\"*\", label=\"your test\")\n",
    "plt.xlabel(\"Study hours\"); plt.ylabel(\"Final mark\"); plt.title(\"Linear Regression: study vs mark\")\n",
    "plt.legend(); plt.show()\n",
    "\n",
    "display(HTML(f\"<b>Prediction:</b> For \"\n",
    "             f\"<span style='color:#d32f2f;font-weight:bold'>{TEST_HOURS} hours</span> \"\n",
    "             f\"→ predicted final mark ≈ <span style='color:#d32f2f;font-weight:bold'>{pred_mark:.1f}</span>/100\"))"
   ]
  },
  {
   "cell_type": "markdown",
   "id": "e5092efb",
   "metadata": {},
   "source": [
    "### Explaining the output\n",
    "- **MAE (Mean Absolute Error)**: average absolute difference between predictions and real marks  \n",
    "  \\[ \\( \\text{MAE} = \\tfrac{1}{n}\\sum_i |\\hat y_i - y_i| \\) \\]  \n",
    "  **Smaller is better.** Interpret in **marks** (the unit of \\(y\\)). A MAE of 3.0 means “about 3 marks off on average.”  \n",
    "  Rule of thumb: compare MAE to the **range** or **typical size** of the target. MAE ≪ 10 marks is strong here.\n",
    "- **R² (coefficient of determination)**: fraction of variance explained by the model  \n",
    "  \\[ \\( R^2 = 1 - \\frac{\\sum (y-\\hat y)^2}{\\sum (y-\\bar y)^2} \\) \\]  \n",
    "  **Closer to 1 is better**; 0 means “no better than predicting the mean”; **negative** means “worse than the mean.”\n",
    "- **Slope/Intercept**: line \\( \\hat y = m \\cdot \\text{hours} + b \\). Slope \\(m\\) is “marks gained per extra hour.”\n",
    "\n",
    "> A “good” result here: **low MAE** (small errors in marks) **and** **R² close to 1**."
   ]
  },
  {
   "cell_type": "markdown",
   "id": "15213d0d",
   "metadata": {},
   "source": [
    "> **Try it yourself**  \n",
    "> • Change `TEST_HOURS` to 2, 6, 9 and watch the red star move and the predicted mark update.  \n",
    "> • What happens to R²/MAE if you **remove** a couple of points or change the train/test split size?  \n",
    "> • Extension: add a new feature (e.g., `sleep_hours`) and see if R² improves."
   ]
  },
  {
   "cell_type": "code",
   "execution_count": null,
   "id": "fe082e34",
   "metadata": {},
   "outputs": [],
   "source": [
    "# TEACHER SOLUTION\n",
    "print(\"— Linear Regression: Teacher solution —\")\n",
    "m = linreg.coef_[0]; b = linreg.intercept_\n",
    "print(f\"Line: ŷ = {m:.3f}*hours + {b:.3f}\")\n",
    "print(f\"MAE={mae_lin:.2f}, R²={r2_lin:.3f} → {r2_lin*100:.1f}% variance explained.\")\n",
    "print(f\"For {TEST_HOURS} hours: {m:.3f}*{TEST_HOURS} + {b:.3f} = {pred_mark:.1f} marks.\")"
   ]
  },
  {
   "cell_type": "markdown",
   "id": "bfc4451e",
   "metadata": {},
   "source": [
    "## 3) Polynomial Regression (degree=2) — Diminishing returns"
   ]
  },
  {
   "cell_type": "code",
   "execution_count": 4,
   "id": "bc7137df",
   "metadata": {},
   "outputs": [
    {
     "name": "stdout",
     "output_type": "stream",
     "text": [
      "Poly deg=2 → MAE: 0.76  |  R^2: 0.999\n"
     ]
    },
    {
     "name": "stderr",
     "output_type": "stream",
     "text": [
      "/workspaces/ml-walkthrough/.venv/lib/python3.12/site-packages/sklearn/utils/validation.py:2749: UserWarning: X does not have valid feature names, but PolynomialFeatures was fitted with feature names\n",
      "  warnings.warn(\n",
      "/workspaces/ml-walkthrough/.venv/lib/python3.12/site-packages/sklearn/utils/validation.py:2749: UserWarning: X does not have valid feature names, but PolynomialFeatures was fitted with feature names\n",
      "  warnings.warn(\n"
     ]
    },
    {
     "data": {
      "image/png": "[encoded data removed]",
      "text/plain": [
       "<Figure size 640x480 with 1 Axes>"
      ]
     },
     "metadata": {},
     "output_type": "display_data"
    },
    {
     "data": {
      "text/html": [
       "<b>Polynomial prediction:</b> For <span style='color:#d32f2f;font-weight:bold'>7 hours</span> → predicted final mark ≈ <span style='color:#d32f2f;font-weight:bold'>81.4</span>/100"
      ],
      "text/plain": [
       "<IPython.core.display.HTML object>"
      ]
     },
     "metadata": {},
     "output_type": "display_data"
    }
   ],
   "source": [
    "poly2 = Pipeline([(\"poly\", PolynomialFeatures(degree=2, include_bias=False)),\n",
    "                  (\"lin\", LinearRegression())]).fit(Xtr_lin, ytr_lin)\n",
    "\n",
    "yhat_poly = poly2.predict(Xte_lin)\n",
    "mae_poly = mean_absolute_error(yte_lin, yhat_poly)\n",
    "r2_poly  = r2_score(yte_lin, yhat_poly)\n",
    "print(f\"Poly deg=2 → MAE: {mae_poly:.2f}  |  R^2: {r2_poly:.3f}\")\n",
    "\n",
    "# EDIT THIS LINE to choose hours for polynomial prediction\n",
    "TEST_HOURS_POLY = 7   # 👈 EDIT THIS\n",
    "pred_mark_poly = poly2.predict(np.array([[TEST_HOURS_POLY]]))[0]\n",
    "\n",
    "# Plot curve + your test\n",
    "xx = np.linspace(X[\"hours\"].min(), X[\"hours\"].max(), 200).reshape(-1,1)\n",
    "yy = poly2.predict(xx)\n",
    "plt.figure()\n",
    "plt.scatter(X[\"hours\"], y, s=25, label=\"data\")\n",
    "plt.plot(xx[:,0], yy, label=\"degree-2 curve\")\n",
    "plt.scatter([TEST_HOURS_POLY], [pred_mark_poly], color=\"red\", s=120, marker=\"*\", label=\"your test\")\n",
    "plt.xlabel(\"Study hours\"); plt.ylabel(\"Final mark\"); plt.title(\"Polynomial Regression\")\n",
    "plt.legend(); plt.show()\n",
    "\n",
    "display(HTML(f\"<b>Polynomial prediction:</b> For \"\n",
    "             f\"<span style='color:#d32f2f;font-weight:bold'>{TEST_HOURS_POLY} hours</span> \"\n",
    "             f\"→ predicted final mark ≈ <span style='color:#d32f2f;font-weight:bold'>{pred_mark_poly:.1f}</span>/100\"))"
   ]
  },
  {
   "cell_type": "markdown",
   "id": "f99f234e",
   "metadata": {},
   "source": [
    "### Explaining the output\n",
    "- **Why polynomial?** If marks increase but **flatten** at high hours, a straight line under/over-shoots.  \n",
    "  Degree‑2 adds \\( \\text{hours}^2 \\) so the fit can **curve**.\n",
    "- **MAE/R² comparison**: if MAE is **lower** and R² is **higher** than the linear model, the curve fits better.  \n",
    "  If not, the data may be mostly linear (or too little data to benefit).\n",
    "\n",
    "> “Good” here = **lower MAE** and **higher R²** than the linear baseline without extreme wobbles (overfitting)."
   ]
  },
  {
   "cell_type": "markdown",
   "id": "d6c8db85",
   "metadata": {},
   "source": [
    "> **Try it yourself**  \n",
    "> • Change `TEST_HOURS_POLY` to 3, 9. Does the curved prediction feel realistic?  \n",
    "> • Extension: change degree in `PolynomialFeatures(degree=2)` to 3 or 4 and watch the line wiggle — discuss **overfitting**."
   ]
  },
  {
   "cell_type": "code",
   "execution_count": null,
   "id": "dd445390",
   "metadata": {},
   "outputs": [],
   "source": [
    "# TEACHER SOLUTION\n",
    "print(\"— Polynomial Regression: Teacher solution —\")\n",
    "print(f\"Linear vs Poly → MAE {mae_lin:.2f} → {mae_poly:.2f} | R² {r2_lin:.3f} → {r2_poly:.3f}\")"
   ]
  },
  {
   "cell_type": "markdown",
   "id": "3645c4e0",
   "metadata": {},
   "source": [
    "## 4) Logistic Regression — Pass (1) vs Fail (0) from study hours"
   ]
  },
  {
   "cell_type": "code",
   "execution_count": 5,
   "id": "bb6f69b8",
   "metadata": {},
   "outputs": [
    {
     "name": "stdout",
     "output_type": "stream",
     "text": [
      "Accuracy: 0.67\n",
      "\n",
      "Classification report:\n",
      "               precision    recall  f1-score   support\n",
      "\n",
      "        fail       0.00      0.00      0.00         1\n",
      "        pass       0.67      1.00      0.80         2\n",
      "\n",
      "    accuracy                           0.67         3\n",
      "   macro avg       0.33      0.50      0.40         3\n",
      "weighted avg       0.44      0.67      0.53         3\n",
      "\n"
     ]
    },
    {
     "name": "stderr",
     "output_type": "stream",
     "text": [
      "/workspaces/ml-walkthrough/.venv/lib/python3.12/site-packages/sklearn/metrics/_classification.py:1731: UndefinedMetricWarning: Precision is ill-defined and being set to 0.0 in labels with no predicted samples. Use `zero_division` parameter to control this behavior.\n",
      "  _warn_prf(average, modifier, f\"{metric.capitalize()} is\", result.shape[0])\n",
      "/workspaces/ml-walkthrough/.venv/lib/python3.12/site-packages/sklearn/metrics/_classification.py:1731: UndefinedMetricWarning: Precision is ill-defined and being set to 0.0 in labels with no predicted samples. Use `zero_division` parameter to control this behavior.\n",
      "  _warn_prf(average, modifier, f\"{metric.capitalize()} is\", result.shape[0])\n",
      "/workspaces/ml-walkthrough/.venv/lib/python3.12/site-packages/sklearn/metrics/_classification.py:1731: UndefinedMetricWarning: Precision is ill-defined and being set to 0.0 in labels with no predicted samples. Use `zero_division` parameter to control this behavior.\n",
      "  _warn_prf(average, modifier, f\"{metric.capitalize()} is\", result.shape[0])\n",
      "/workspaces/ml-walkthrough/.venv/lib/python3.12/site-packages/sklearn/utils/validation.py:2749: UserWarning: X does not have valid feature names, but LogisticRegression was fitted with feature names\n",
      "  warnings.warn(\n",
      "/workspaces/ml-walkthrough/.venv/lib/python3.12/site-packages/sklearn/utils/validation.py:2749: UserWarning: X does not have valid feature names, but LogisticRegression was fitted with feature names\n",
      "  warnings.warn(\n"
     ]
    },
    {
     "data": {
      "image/png": "[encoded data removed]",
      "text/plain": [
       "<Figure size 640x480 with 1 Axes>"
      ]
     },
     "metadata": {},
     "output_type": "display_data"
    },
    {
     "data": {
      "text/html": [
       "<b>Probability:</b> At <span style='color:#d32f2f;font-weight:bold'>5.0 hours</span> → P(pass) = <span style='color:#d32f2f;font-weight:bold'>0.98</span> → label <span style='color:#d32f2f;font-weight:bold'>pass</span>"
      ],
      "text/plain": [
       "<IPython.core.display.HTML object>"
      ]
     },
     "metadata": {},
     "output_type": "display_data"
    }
   ],
   "source": [
    "data_log = data_lin.copy()\n",
    "data_log[\"pass\"] = (data_log[\"final_mark\"] >= 50).astype(int)\n",
    "Xc = data_log[[\"hours\"]]; yc = data_log[\"pass\"]\n",
    "Xc_tr, Xc_te, yc_tr, yc_te = train_test_split(Xc, yc, stratify=yc, test_size=0.25, random_state=42)\n",
    "\n",
    "logreg = LogisticRegression().fit(Xc_tr, yc_tr)\n",
    "\n",
    "yc_pred = logreg.predict(Xc_te)\n",
    "acc_log = accuracy_score(yc_te, yc_pred)\n",
    "print(\"Accuracy:\", round(acc_log,2))\n",
    "print(\"\\nClassification report:\\n\", classification_report(yc_te, yc_pred, target_names=[\"fail\",\"pass\"]))\n",
    "\n",
    "# EDIT THIS LINE to choose hours for probability prediction\n",
    "TEST_HOURS_LOG = 5.0   # 👈 EDIT THIS\n",
    "p_pass = logreg.predict_proba(np.array([[TEST_HOURS_LOG]]))[:,1][0]\n",
    "label = \"pass\" if p_pass >= 0.5 else \"fail\"\n",
    "\n",
    "# Probability curve + your test\n",
    "xs = np.linspace(0, 10, 200).reshape(-1,1)\n",
    "p_curve = logreg.predict_proba(xs)[:,1]\n",
    "plt.figure(); plt.plot(xs[:,0], p_curve)\n",
    "plt.axhline(0.5, ls=\"--\"); plt.scatter([TEST_HOURS_LOG], [p_pass], color=\"red\", s=120, marker=\"*\", label=\"your test\")\n",
    "plt.xlabel(\"Study hours\"); plt.ylabel(\"P(pass)\"); plt.title(\"Logistic: probability of passing\")\n",
    "plt.legend(); plt.show()\n",
    "\n",
    "display(HTML(f\"<b>Probability:</b> At \"\n",
    "             f\"<span style='color:#d32f2f;font-weight:bold'>{TEST_HOURS_LOG} hours</span> \"\n",
    "             f\"→ P(pass) = <span style='color:#d32f2f;font-weight:bold'>{p_pass:.2f}</span> → label \"\n",
    "             f\"<span style='color:#d32f2f;font-weight:bold'>{label}</span>\"))"
   ]
  },
  {
   "cell_type": "markdown",
   "id": "e8db667f",
   "metadata": {},
   "source": [
    "### Explaining the output\n",
    "- **Accuracy**: proportion of correct pass/fail labels. **Higher is better**, but beware class imbalance.  \n",
    "- **Precision** (for “pass”): when the model predicts **pass**, how often is it right?  \n",
    "- **Recall** (for “pass”): of all true **pass** students, how many did we catch?  \n",
    "- **F1**: harmonic mean of precision and recall (high only if **both** are high).\n",
    "- **Probability curve**: logistic regression outputs \\( P(\\text{pass}|\\,\\text{hours}) \\). The default **threshold** is 0.5, but in safety‑critical contexts you might choose 0.6/0.7 etc.\n",
    "\n",
    "> “Good” here depends on priorities: if missing passes is worse, aim for **high recall**; if false passes are costly, aim for **high precision**."
   ]
  },
  {
   "cell_type": "markdown",
   "id": "8f52147e",
   "metadata": {},
   "source": [
    "> **Try it yourself**  \n",
    "> • Change `TEST_HOURS_LOG` to 3, 6, 8 and see probability and label flip around the 0.5 line.  \n",
    "> • Extension: compute accuracy at different **thresholds** by comparing `p_pass >= T` for several `T` values."
   ]
  },
  {
   "cell_type": "code",
   "execution_count": null,
   "id": "9af493c2",
   "metadata": {},
   "outputs": [],
   "source": [
    "# TEACHER SOLUTION\n",
    "print(\"— Logistic Regression: Teacher solution —\")\n",
    "b0 = float(logreg.intercept_[0]); b1 = float(logreg.coef_[0,0])\n",
    "print(f\"z = {b1:.3f}*hours + {b0:.3f};  P(pass)=1/(1+e^-z)\")\n",
    "for h in [3,5,7]:\n",
    "    p = logreg.predict_proba(np.array([[h]]))[:,1][0]\n",
    "    print(f\"hours={h} → P(pass)={p:.2f} → {'pass' if p>=0.5 else 'fail'}\")"
   ]
  },
  {
   "cell_type": "markdown",
   "id": "8ee0a8d4",
   "metadata": {},
   "source": [
    "## 5) KNN — Fruit by weight & sweetness (3 classes)"
   ]
  },
  {
   "cell_type": "code",
   "execution_count": 6,
   "id": "34dea83f",
   "metadata": {},
   "outputs": [
    {
     "data": {
      "text/html": [
       "<div>\n",
       "<style scoped>\n",
       "    .dataframe tbody tr th:only-of-type {\n",
       "        vertical-align: middle;\n",
       "    }\n",
       "\n",
       "    .dataframe tbody tr th {\n",
       "        vertical-align: top;\n",
       "    }\n",
       "\n",
       "    .dataframe thead th {\n",
       "        text-align: right;\n",
       "    }\n",
       "</style>\n",
       "<table border=\"1\" class=\"dataframe\">\n",
       "  <thead>\n",
       "    <tr style=\"text-align: right;\">\n",
       "      <th></th>\n",
       "      <th>weight_g</th>\n",
       "      <th>sweetness</th>\n",
       "      <th>label</th>\n",
       "    </tr>\n",
       "  </thead>\n",
       "  <tbody>\n",
       "    <tr>\n",
       "      <th>0</th>\n",
       "      <td>120</td>\n",
       "      <td>6</td>\n",
       "      <td>apple</td>\n",
       "    </tr>\n",
       "    <tr>\n",
       "      <th>1</th>\n",
       "      <td>130</td>\n",
       "      <td>7</td>\n",
       "      <td>apple</td>\n",
       "    </tr>\n",
       "    <tr>\n",
       "      <th>2</th>\n",
       "      <td>140</td>\n",
       "      <td>6</td>\n",
       "      <td>apple</td>\n",
       "    </tr>\n",
       "    <tr>\n",
       "      <th>3</th>\n",
       "      <td>150</td>\n",
       "      <td>8</td>\n",
       "      <td>orange</td>\n",
       "    </tr>\n",
       "    <tr>\n",
       "      <th>4</th>\n",
       "      <td>160</td>\n",
       "      <td>7</td>\n",
       "      <td>apple</td>\n",
       "    </tr>\n",
       "    <tr>\n",
       "      <th>5</th>\n",
       "      <td>170</td>\n",
       "      <td>9</td>\n",
       "      <td>orange</td>\n",
       "    </tr>\n",
       "    <tr>\n",
       "      <th>6</th>\n",
       "      <td>180</td>\n",
       "      <td>8</td>\n",
       "      <td>orange</td>\n",
       "    </tr>\n",
       "    <tr>\n",
       "      <th>7</th>\n",
       "      <td>190</td>\n",
       "      <td>10</td>\n",
       "      <td>orange</td>\n",
       "    </tr>\n",
       "    <tr>\n",
       "      <th>8</th>\n",
       "      <td>125</td>\n",
       "      <td>6</td>\n",
       "      <td>apple</td>\n",
       "    </tr>\n",
       "    <tr>\n",
       "      <th>9</th>\n",
       "      <td>135</td>\n",
       "      <td>7</td>\n",
       "      <td>apple</td>\n",
       "    </tr>\n",
       "    <tr>\n",
       "      <th>10</th>\n",
       "      <td>145</td>\n",
       "      <td>6</td>\n",
       "      <td>apple</td>\n",
       "    </tr>\n",
       "    <tr>\n",
       "      <th>11</th>\n",
       "      <td>155</td>\n",
       "      <td>8</td>\n",
       "      <td>orange</td>\n",
       "    </tr>\n",
       "    <tr>\n",
       "      <th>12</th>\n",
       "      <td>165</td>\n",
       "      <td>7</td>\n",
       "      <td>apple</td>\n",
       "    </tr>\n",
       "    <tr>\n",
       "      <th>13</th>\n",
       "      <td>175</td>\n",
       "      <td>9</td>\n",
       "      <td>orange</td>\n",
       "    </tr>\n",
       "    <tr>\n",
       "      <th>14</th>\n",
       "      <td>185</td>\n",
       "      <td>8</td>\n",
       "      <td>orange</td>\n",
       "    </tr>\n",
       "    <tr>\n",
       "      <th>15</th>\n",
       "      <td>195</td>\n",
       "      <td>10</td>\n",
       "      <td>orange</td>\n",
       "    </tr>\n",
       "  </tbody>\n",
       "</table>\n",
       "</div>"
      ],
      "text/plain": [
       "    weight_g  sweetness   label\n",
       "0        120          6   apple\n",
       "1        130          7   apple\n",
       "2        140          6   apple\n",
       "3        150          8  orange\n",
       "4        160          7   apple\n",
       "5        170          9  orange\n",
       "6        180          8  orange\n",
       "7        190         10  orange\n",
       "8        125          6   apple\n",
       "9        135          7   apple\n",
       "10       145          6   apple\n",
       "11       155          8  orange\n",
       "12       165          7   apple\n",
       "13       175          9  orange\n",
       "14       185          8  orange\n",
       "15       195         10  orange"
      ]
     },
     "metadata": {},
     "output_type": "display_data"
    },
    {
     "data": {
      "image/png": "[encoded data removed]",
      "text/plain": [
       "<Figure size 640x480 with 1 Axes>"
      ]
     },
     "metadata": {},
     "output_type": "display_data"
    },
    {
     "data": {
      "text/html": [
       "<b>KNN prediction:</b> For fruit with weight_g=<span style='color:#d32f2f;font-weight:bold'>175</span>, sweetness=<span style='color:#d32f2f;font-weight:bold'>9.0</span> → predicted type = <span style='color:#d32f2f;font-weight:bold'>orange</span>"
      ],
      "text/plain": [
       "<IPython.core.display.HTML object>"
      ]
     },
     "metadata": {},
     "output_type": "display_data"
    }
   ],
   "source": [
    "\n",
    "# Keep the explicit list-based dataset, but DOUBLE the number of unique data points (16 total).\n",
    "fruit = pd.DataFrame({\n",
    "    \"weight_g\":   [120, 130, 140, 150, 160, 170, 180, 190, 125, 135, 145, 155, 165, 175, 185, 195],\n",
    "    \"sweetness\":  [  6,   7,   6,   8,   7,   9,   8,  10, 6,   7,   6,   8,   7,   9,   8,  10],\n",
    "    \"label\":      [\"apple\",\"apple\",\"apple\",\"orange\",\"apple\",\"orange\",\"orange\",\"orange\",\"apple\",\"apple\",\"apple\",\"orange\",\"apple\",\"orange\",\"orange\",\"orange\"]\n",
    "})\n",
    "display(fruit)\n",
    "\n",
    "Xf = fruit[[\"weight_g\",\"sweetness\"]]\n",
    "yf = fruit[\"label\"]\n",
    "\n",
    "knn = KNeighborsClassifier(n_neighbors=3).fit(Xf, yf)\n",
    "\n",
    "# === EDIT THESE LINES to classify a single fruit example ===\n",
    "TEST_WEIGHT = 175   # 👈 EDIT THIS\n",
    "TEST_SWEET  = 9.0   # 👈 EDIT THIS\n",
    "test_pt = pd.DataFrame({\"weight_g\":[TEST_WEIGHT], \"sweetness\":[TEST_SWEET]})\n",
    "pred_knn = knn.predict(test_pt)[0]\n",
    "\n",
    "# Plot training points and highlight your test\n",
    "plt.figure()\n",
    "for name, grp in fruit.groupby(\"label\"):\n",
    "    plt.scatter(grp[\"weight_g\"], grp[\"sweetness\"], label=name, s=40)\n",
    "plt.scatter(TEST_WEIGHT, TEST_SWEET, color=\"red\", marker=\"*\", s=180, label=\"your test\")\n",
    "plt.xlabel(\"Weight (g)\"); plt.ylabel(\"Sweetness (1–10)\"); plt.title(\"KNN: new item over training data (16 points)\")\n",
    "plt.legend(); plt.show()\n",
    "\n",
    "display(HTML(f\"<b>KNN prediction:</b> For fruit with \"\n",
    "             f\"weight_g=<span style='color:#d32f2f;font-weight:bold'>{TEST_WEIGHT}</span>, \"\n",
    "             f\"sweetness=<span style='color:#d32f2f;font-weight:bold'>{TEST_SWEET}</span> \"\n",
    "             f\"→ predicted type = <span style='color:#d32f2f;font-weight:bold'>{pred_knn}</span>\"))\n"
   ]
  },
  {
   "cell_type": "markdown",
   "id": "e36175c9",
   "metadata": {},
   "source": [
    "### Explaining the output\n",
    "- KNN **doesn’t learn weights**; it stores training points and votes among the **k nearest**.  \n",
    "- Sensible distances require **comparable scales** (grams vs a 1–10 scale → consider standardising in real projects).  \n",
    "- **Choosing \\(k\\)**: small \\(k\\) can overfit (too noisy), large \\(k\\) can underfit (too smooth).\n",
    "\n",
    "> “Good” behaviour: nearby test points should be classified like their neighbours; decisions should be stable to small input changes."
   ]
  },
  {
   "cell_type": "markdown",
   "id": "ff7f11ab",
   "metadata": {},
   "source": [
    "> **Try it yourself**  \n",
    "> • Change `TEST_WEIGHT`/`TEST_SWEET` to move the red star across classes and watch the label change.  \n",
    "> • Extension: change `n_neighbors=3` to 1 or 5 and see how predictions become more/less sensitive."
   ]
  },
  {
   "cell_type": "code",
   "execution_count": null,
   "id": "33494f8a",
   "metadata": {},
   "outputs": [],
   "source": [
    "# TEACHER SOLUTION\n",
    "print(\"— KNN: Teacher solution —\")\n",
    "print(\"Decision depends on local neighbourhood; standardisation often needed with mixed units.\")"
   ]
  },
  {
   "cell_type": "markdown",
   "id": "40bbadcd",
   "metadata": {},
   "source": [
    "## 6) Decision Tree — Phone purchase (Buy/Don’t Buy)"
   ]
  },
  {
   "cell_type": "code",
   "execution_count": 7,
   "id": "ebd7435d",
   "metadata": {},
   "outputs": [
    {
     "name": "stdout",
     "output_type": "stream",
     "text": [
      "|--- memory_gb <= 192.00\n",
      "|   |--- ai_assistant <= 0.50\n",
      "|   |   |--- class: 0\n",
      "|   |--- ai_assistant >  0.50\n",
      "|   |   |--- memory_gb <= 96.00\n",
      "|   |   |   |--- class: 0\n",
      "|   |   |--- memory_gb >  96.00\n",
      "|   |   |   |--- class: 1\n",
      "|--- memory_gb >  192.00\n",
      "|   |--- class: 1\n",
      "\n"
     ]
    },
    {
     "data": {
      "text/html": [
       "<b>Decision:</b> For phone (memory_gb=<span style='color:#d32f2f;font-weight:bold'>128</span>, AI=<span style='color:#d32f2f;font-weight:bold'>1</span>, accessory=<span style='color:#d32f2f;font-weight:bold'>0</span>) → buy = <span style='color:#d32f2f;font-weight:bold'>1</span> (1=yes, 0=no)"
      ],
      "text/plain": [
       "<IPython.core.display.HTML object>"
      ]
     },
     "metadata": {},
     "output_type": "display_data"
    }
   ],
   "source": [
    "phones = pd.DataFrame({\n",
    "    \"memory_gb\":            [64, 128, 256, 128, 256, 128, 256, 64],\n",
    "    \"ai_assistant\":         [ 0,   1,   1,   0,   1,   0,   0,  1],\n",
    "    \"accessory_inclusions\": [ 0,   0,   1,   1,   1,   0,   0,  0],\n",
    "    \"buy\":                  [ 0,   1,   1,   0,   1,   0,   1,  0]\n",
    "})\n",
    "Xph = phones[[\"memory_gb\",\"ai_assistant\",\"accessory_inclusions\"]]; yph = phones[\"buy\"]\n",
    "tree = DecisionTreeClassifier(max_depth=3, random_state=0).fit(Xph, yph)\n",
    "\n",
    "print(export_text(tree, feature_names=list(Xph.columns)))\n",
    "\n",
    "# EDIT THESE LINES to test a phone\n",
    "TEST_MEM   = 128  # 👈 EDIT THIS\n",
    "TEST_AI    = 1    # 👈 EDIT THIS (1=yes, 0=no)\n",
    "TEST_ACC   = 0    # 👈 EDIT THIS (1=yes, 0=no)\n",
    "ex_phone = pd.DataFrame({\"memory_gb\":[TEST_MEM], \"ai_assistant\":[TEST_AI], \"accessory_inclusions\":[TEST_ACC]})\n",
    "pred_tree = int(tree.predict(ex_phone)[0])\n",
    "\n",
    "display(HTML(f\"<b>Decision:</b> For phone \"\n",
    "             f\"(memory_gb=<span style='color:#d32f2f;font-weight:bold'>{TEST_MEM}</span>, \"\n",
    "             f\"AI=<span style='color:#d32f2f;font-weight:bold'>{TEST_AI}</span>, \"\n",
    "             f\"accessory=<span style='color:#d32f2f;font-weight:bold'>{TEST_ACC}</span>) \"\n",
    "             f\"→ buy = <span style='color:#d32f2f;font-weight:bold'>{pred_tree}</span> (1=yes, 0=no)\"))"
   ]
  },
  {
   "cell_type": "markdown",
   "id": "282741bf",
   "metadata": {},
   "source": [
    "### Explaining the output\n",
    "- Trees follow **if/else** splits until a **leaf** decision. The printed rules show the exact logic path.  \n",
    "- **Feature importance** (not printed here) tells which inputs reduced impurity most.\n",
    "\n",
    "> “Good” trees are **simple to read** (shallow depth) yet classify well; too deep → overfitting and hard to explain."
   ]
  },
  {
   "cell_type": "markdown",
   "id": "b1d33d90",
   "metadata": {},
   "source": [
    "> **Try it yourself**  \n",
    "> • Change `TEST_MEM`, `TEST_AI`, `TEST_ACC` and trace the path in the printed rules.  \n",
    "> • Extension: increase `max_depth` to 4–5 and see how rules become more specific (risk: overfitting)."
   ]
  },
  {
   "cell_type": "code",
   "execution_count": null,
   "id": "ea0543bc",
   "metadata": {},
   "outputs": [],
   "source": [
    "# TEACHER SOLUTION\n",
    "print(\"— Decision Tree: Teacher solution —\")\n",
    "fi = pd.Series(tree.feature_importances_, index=Xph.columns).sort_values(ascending=False)\n",
    "print(\"Feature importances (sum=1):\"); print(fi)"
   ]
  },
  {
   "cell_type": "markdown",
   "id": "ff6a7488",
   "metadata": {},
   "source": [
    "## 7) Neural Network (MLP) — Pass/Fail from study, attendance, assignment"
   ]
  },
  {
   "cell_type": "code",
   "execution_count": 8,
   "id": "d59bd097",
   "metadata": {},
   "outputs": [
    {
     "name": "stdout",
     "output_type": "stream",
     "text": [
      "Test accuracy: 1.0\n",
      "That means it got about 100% of the test examples correct.\n"
     ]
    },
    {
     "data": {
      "text/html": [
       "<b>MLP prediction:</b> For study=<span style='color:#d32f2f;font-weight:bold'>4.5</span>, attendance=<span style='color:#d32f2f;font-weight:bold'>0.8</span>, assignment=<span style='color:#d32f2f;font-weight:bold'>66</span> → P(pass)=<span style='color:#d32f2f;font-weight:bold'>0.88</span> → label <span style='color:#d32f2f;font-weight:bold'>1</span>"
      ],
      "text/plain": [
       "<IPython.core.display.HTML object>"
      ]
     },
     "metadata": {},
     "output_type": "display_data"
    },
    {
     "data": {
      "image/png": "[encoded data removed]",
      "text/plain": [
       "<Figure size 640x480 with 1 Axes>"
      ]
     },
     "metadata": {},
     "output_type": "display_data"
    }
   ],
   "source": [
    "\n",
    "# Build a tiny, easy-to-read dataset (students will recognise these inputs)\n",
    "# Each row is one student; columns are the things we know about them.\n",
    "students = pd.DataFrame({\n",
    "    \"study_hours\":      [1, 2, 3, 4, 5, 6, 2, 3, 5, 7, 8, 9],\n",
    "    \"attendance_rate\":  [0.5,0.6,0.7,0.7,0.8,0.9,0.55,0.65,0.85,0.9,0.95,0.98],\n",
    "    \"assignment_score\": [40, 45, 50, 60, 65, 70, 42, 55, 68, 78, 85, 90],\n",
    "})\n",
    "# Create the answer we want the model to learn: pass (1) or fail (0).\n",
    "# Here we use a simple rule just for teaching: pass if assignment >= 50 AND attendance >= 0.65, else fail.\n",
    "students[\"pass\"] = ((students[\"assignment_score\"]>=50) & (students[\"attendance_rate\"]>=0.65)).astype(int)\n",
    "\n",
    "# Split the columns into inputs (X) and answers (y).\n",
    "Xnn = students[[\"study_hours\",\"attendance_rate\",\"assignment_score\"]]\n",
    "ynn = students[\"pass\"]\n",
    "\n",
    "# Split into a training set (the model learns from this) and a test set (we check if it learned well).\n",
    "Xtr_nn, Xte_nn, ytr_nn, yte_nn = train_test_split(Xnn, ynn, test_size=0.33, random_state=42)\n",
    "\n",
    "from sklearn.neural_network import MLPClassifier\n",
    "from sklearn.metrics import accuracy_score\n",
    "\n",
    "# --- BUILD THE MODEL (think: a small \"brain\" made of simple calculators in layers) ---\n",
    "mlp = MLPClassifier(\n",
    "    hidden_layer_sizes=(8,),  # 8 helper units in the middle layer (more units = can learn more complex patterns)\n",
    "    activation='relu',        # ReLU: negative numbers become 0, positives pass through → helps learn curves quickly\n",
    "    max_iter=2000,            # let it \"practice\" up to 2000 rounds so it has time to improve\n",
    "    random_state=42           # fix randomness so results are repeatable for everyone in class\n",
    ")\n",
    "\n",
    "# --- TRAINING: learning happens here ---\n",
    "# Show the model many examples (Xtr_nn) with the correct answers (ytr_nn).\n",
    "# Inside, it tweaks internal numbers (\"weights\") little by little to make fewer mistakes.\n",
    "mlp.fit(Xtr_nn, ytr_nn)\n",
    "\n",
    "# --- PREDICTION: use what it learned on brand-new examples ---\n",
    "# Ask the model for its best guess (0 = fail, 1 = pass) on the test set it hasn't seen before.\n",
    "yp_nn = mlp.predict(Xte_nn)\n",
    "\n",
    "# --- EVALUATION: how good were the guesses? ---\n",
    "# Accuracy = (how many correct) / (how many total). Higher is better.\n",
    "acc_nn = accuracy_score(yte_nn, yp_nn)\n",
    "\n",
    "# Print a simple score we can all read. 0.92 means 92% correct.\n",
    "print(\"Test accuracy:\", round(acc_nn, 2))\n",
    "print(f\"That means it got about {acc_nn*100:.0f}% of the test examples correct.\")\n",
    "\n",
    "# ── TRY IT: make a single prediction you can edit ───────────────────────────────────────────\n",
    "# Change these three lines to see how the prediction changes for one student:\n",
    "TEST_STUDY = 4.5   # 👈 EDIT THIS (hours studied, try 2, 6, 9)\n",
    "TEST_ATT   = 0.80  # 👈 EDIT THIS (attendance between 0 and 1, e.g., 0.6, 0.9)\n",
    "TEST_ASSIGN= 66    # 👈 EDIT THIS (assignment score out of 100)\n",
    "\n",
    "# Build a one-row table for that student and ask the model for its confidence (0 to 1) and label (0/1).\n",
    "ex = pd.DataFrame({\"study_hours\":[TEST_STUDY], \"attendance_rate\":[TEST_ATT], \"assignment_score\":[TEST_ASSIGN]})\n",
    "p_pass = mlp.predict_proba(ex)[0,1]  # number between 0 and 1: closer to 1 = more confident it's a 'pass'\n",
    "label = int(p_pass>=0.5)             # turn probability into yes/no using the usual 0.5 threshold\n",
    "\n",
    "# Show the personalised result in clear text with colour.\n",
    "display(HTML(f\"<b>MLP prediction:</b> For \"\n",
    "             f\"study=<span style='color:#d32f2f;font-weight:bold'>{TEST_STUDY}</span>, \"\n",
    "             f\"attendance=<span style='color:#d32f2f;font-weight:bold'>{TEST_ATT}</span>, \"\n",
    "             f\"assignment=<span style='color:#d32f2f;font-weight:bold'>{TEST_ASSIGN}</span> \"\n",
    "             f\"→ P(pass)=<span style='color:#d32f2f;font-weight:bold'>{p_pass:.2f}</span> → label \"\n",
    "             f\"<span style='color:#d32f2f;font-weight:bold'>{label}</span>\"))\n",
    "\n",
    "# ── VISUALISE one factor at a time (optional): hold two inputs still, slide the third ───────\n",
    "# Here we hold attendance and assignment fixed, and vary study hours from 0 → 10.\n",
    "grid = pd.DataFrame({\n",
    "    \"study_hours\": np.linspace(0,10,200),\n",
    "    \"attendance_rate\": TEST_ATT,            # keep your chosen attendance\n",
    "    \"assignment_score\": TEST_ASSIGN         # keep your chosen assignment score\n",
    "})\n",
    "probs = mlp.predict_proba(grid)[:,1]        # confidence of \"pass\" for each study_hours value\n",
    "plt.figure(); plt.plot(grid[\"study_hours\"], probs)\n",
    "plt.scatter([TEST_STUDY], [p_pass], color=\"red\", s=120, marker=\"*\", label=\"your test\")  # mark your chosen point\n",
    "plt.xlabel(\"Study hours\"); plt.ylabel(\"P(pass)\")\n",
    "plt.title(\"MLP probability vs study hours (holding other inputs fixed)\")\n",
    "plt.legend(); plt.show()\n",
    "\n",
    "# Tips if accuracy looks low:\n",
    "# • Give the model more data to practice on (more rows).\n",
    "# • Try a slightly bigger network, e.g., hidden_layer_sizes=(16,) or (16,8).\n",
    "# • Scale inputs (StandardScaler) in bigger projects so features are on similar ranges.\n",
    "# • Check labels (pass/fail) are correct and not super imbalanced.\n"
   ]
  },
  {
   "cell_type": "markdown",
   "id": "716d4847",
   "metadata": {},
   "source": [
    "### Explaining the output\n",
    "- The MLP maps inputs → hidden neurons (with **ReLU**) → output probability.  \n",
    "- Training uses **backpropagation** to reduce classification error.  \n",
    "- Accuracy here is a quick check; with more data you’d also monitor **validation curves** to avoid over/under‑fitting.\n",
    "\n",
    "> “Good” practice: scale features (we kept it simple here), use validation, and set `random_state` for reproducibility."
   ]
  },
  {
   "cell_type": "markdown",
   "id": "f9bb8c0b",
   "metadata": {},
   "source": [
    "> **Try it yourself**  \n",
    "> • Change `TEST_STUDY`, `TEST_ATT`, `TEST_ASSIGN` to see how the probability shifts.  \n",
    "> • Extension: increase `hidden_layer_sizes` (e.g., `(16,)` or `(16,8)`) and compare accuracy and curve shape."
   ]
  },
  {
   "cell_type": "code",
   "execution_count": null,
   "id": "955372bb",
   "metadata": {},
   "outputs": [],
   "source": [
    "# TEACHER SOLUTION\n",
    "print(\"— Neural Network: Teacher solution —\")\n",
    "print(f\"With tiny datasets, accuracy fluctuates; emphasise process over absolute % here.\")"
   ]
  },
  {
   "cell_type": "markdown",
   "id": "f21bb0c2",
   "metadata": {},
   "source": [
    "## 8) Unsupervised — KMeans clustering (Maths & English) + predict for a new student"
   ]
  },
  {
   "cell_type": "code",
   "execution_count": 9,
   "id": "fb0da48b",
   "metadata": {},
   "outputs": [
    {
     "data": {
      "text/html": [
       "<div>\n",
       "<style scoped>\n",
       "    .dataframe tbody tr th:only-of-type {\n",
       "        vertical-align: middle;\n",
       "    }\n",
       "\n",
       "    .dataframe tbody tr th {\n",
       "        vertical-align: top;\n",
       "    }\n",
       "\n",
       "    .dataframe thead th {\n",
       "        text-align: right;\n",
       "    }\n",
       "</style>\n",
       "<table border=\"1\" class=\"dataframe\">\n",
       "  <thead>\n",
       "    <tr style=\"text-align: right;\">\n",
       "      <th></th>\n",
       "      <th>maths</th>\n",
       "      <th>english</th>\n",
       "      <th>cluster</th>\n",
       "    </tr>\n",
       "  </thead>\n",
       "  <tbody>\n",
       "    <tr>\n",
       "      <th>0</th>\n",
       "      <td>45</td>\n",
       "      <td>50</td>\n",
       "      <td>1</td>\n",
       "    </tr>\n",
       "    <tr>\n",
       "      <th>1</th>\n",
       "      <td>55</td>\n",
       "      <td>52</td>\n",
       "      <td>1</td>\n",
       "    </tr>\n",
       "    <tr>\n",
       "      <th>2</th>\n",
       "      <td>60</td>\n",
       "      <td>58</td>\n",
       "      <td>1</td>\n",
       "    </tr>\n",
       "    <tr>\n",
       "      <th>3</th>\n",
       "      <td>65</td>\n",
       "      <td>60</td>\n",
       "      <td>0</td>\n",
       "    </tr>\n",
       "    <tr>\n",
       "      <th>4</th>\n",
       "      <td>70</td>\n",
       "      <td>72</td>\n",
       "      <td>0</td>\n",
       "    </tr>\n",
       "    <tr>\n",
       "      <th>5</th>\n",
       "      <td>85</td>\n",
       "      <td>80</td>\n",
       "      <td>2</td>\n",
       "    </tr>\n",
       "    <tr>\n",
       "      <th>6</th>\n",
       "      <td>88</td>\n",
       "      <td>86</td>\n",
       "      <td>2</td>\n",
       "    </tr>\n",
       "    <tr>\n",
       "      <th>7</th>\n",
       "      <td>90</td>\n",
       "      <td>92</td>\n",
       "      <td>2</td>\n",
       "    </tr>\n",
       "    <tr>\n",
       "      <th>8</th>\n",
       "      <td>52</td>\n",
       "      <td>49</td>\n",
       "      <td>1</td>\n",
       "    </tr>\n",
       "    <tr>\n",
       "      <th>9</th>\n",
       "      <td>67</td>\n",
       "      <td>63</td>\n",
       "      <td>0</td>\n",
       "    </tr>\n",
       "    <tr>\n",
       "      <th>10</th>\n",
       "      <td>73</td>\n",
       "      <td>75</td>\n",
       "      <td>0</td>\n",
       "    </tr>\n",
       "    <tr>\n",
       "      <th>11</th>\n",
       "      <td>95</td>\n",
       "      <td>94</td>\n",
       "      <td>2</td>\n",
       "    </tr>\n",
       "  </tbody>\n",
       "</table>\n",
       "</div>"
      ],
      "text/plain": [
       "    maths  english  cluster\n",
       "0      45       50        1\n",
       "1      55       52        1\n",
       "2      60       58        1\n",
       "3      65       60        0\n",
       "4      70       72        0\n",
       "5      85       80        2\n",
       "6      88       86        2\n",
       "7      90       92        2\n",
       "8      52       49        1\n",
       "9      67       63        0\n",
       "10     73       75        0\n",
       "11     95       94        2"
      ]
     },
     "metadata": {},
     "output_type": "display_data"
    },
    {
     "data": {
      "image/png": "[encoded data removed]",
      "text/plain": [
       "<Figure size 640x480 with 1 Axes>"
      ]
     },
     "metadata": {},
     "output_type": "display_data"
    },
    {
     "data": {
      "text/html": [
       "<b>Cluster prediction:</b> For student (maths=<span style='color:#d32f2f;font-weight:bold'>68</span>, english=<span style='color:#d32f2f;font-weight:bold'>74</span>) → cluster = <span style='color:#d32f2f;font-weight:bold'>0</span>"
      ],
      "text/plain": [
       "<IPython.core.display.HTML object>"
      ]
     },
     "metadata": {},
     "output_type": "display_data"
    }
   ],
   "source": [
    "scores = pd.DataFrame({\n",
    "    \"maths\":   [45, 55, 60, 65, 70, 85, 88, 90, 52, 67, 73, 95],\n",
    "    \"english\": [50, 52, 58, 60, 72, 80, 86, 92, 49, 63, 75, 94],\n",
    "})\n",
    "kmeans = KMeans(n_clusters=3, n_init=10, random_state=42).fit(scores)\n",
    "scores[\"cluster\"] = kmeans.labels_\n",
    "display(scores)\n",
    "\n",
    "# EDIT THESE LINES to test a new student\n",
    "TEST_MATHS   = 68   # 👈 EDIT THIS\n",
    "TEST_ENGLISH = 74   # 👈 EDIT THIS\n",
    "new_student = pd.DataFrame({\"maths\":[TEST_MATHS], \"english\":[TEST_ENGLISH]})\n",
    "pred_cluster = int(kmeans.predict(new_student)[0])\n",
    "\n",
    "# Plot clusters + test point\n",
    "plt.figure()\n",
    "plt.scatter(scores[\"maths\"], scores[\"english\"], c=scores[\"cluster\"])\n",
    "plt.scatter([TEST_MATHS], [TEST_ENGLISH], color=\"red\", marker=\"*\", s=160, label=\"your test\")\n",
    "plt.xlabel(\"Maths\"); plt.ylabel(\"English\"); plt.title(\"KMeans clusters + your test\")\n",
    "plt.legend(); plt.show()\n",
    "\n",
    "display(HTML(f\"<b>Cluster prediction:</b> For student \"\n",
    "             f\"(maths=<span style='color:#d32f2f;font-weight:bold'>{TEST_MATHS}</span>, \"\n",
    "             f\"english=<span style='color:#d32f2f;font-weight:bold'>{TEST_ENGLISH}</span>) \"\n",
    "             f\"→ cluster = <span style='color:#d32f2f;font-weight:bold'>{pred_cluster}</span>\"))"
   ]
  },
  {
   "cell_type": "markdown",
   "id": "9100741d",
   "metadata": {},
   "source": [
    "### Explaining the output\n",
    "- KMeans finds groups by minimising **within‑cluster variance** (no labels used).  \n",
    "- **Cluster IDs are arbitrary** (0/1/2); focus on **centres** and how points group.  \n",
    "- For separation quality you can compute **silhouette score** (0–1; higher is better) in larger lessons.\n",
    "\n",
    "> “Good” clustering: compact, well‑separated groups; centres that make sense relative to the features."
   ]
  },
  {
   "cell_type": "markdown",
   "id": "a5da1776",
   "metadata": {},
   "source": [
    "> **Try it yourself**  \n",
    "> • Change `TEST_MATHS`/`TEST_ENGLISH` to move the red star and see the assigned cluster.  \n",
    "> • Extension: change `n_clusters=3` to 2 or 4 and discuss how the grouping changes."
   ]
  },
  {
   "cell_type": "code",
   "execution_count": null,
   "id": "9552eb8d",
   "metadata": {},
   "outputs": [],
   "source": [
    "# TEACHER SOLUTION\n",
    "print(\"— KMeans: Teacher solution —\")\n",
    "for i, c in enumerate(kmeans.cluster_centers_):\n",
    "    print(f\"Cluster {i}: maths≈{c[0]:.1f}, english≈{c[1]:.1f}\")"
   ]
  },
  {
   "cell_type": "markdown",
   "id": "18f19176",
   "metadata": {},
   "source": [
    "## 9) Semi-supervised — LabelSpreading with partial labels + predict via classifier"
   ]
  },
  {
   "cell_type": "code",
   "execution_count": null,
   "id": "abb53cb8",
   "metadata": {},
   "outputs": [],
   "source": [
    "semi = pd.DataFrame({\"hours\": np.linspace(1,10,10)})\n",
    "true_lbl = np.array([0,0,0,1,1,1,1,1,1,1])  # simple ground truth\n",
    "partial = true_lbl.copy(); partial[3:] = -1  # only first 3 known\n",
    "\n",
    "ls = LabelSpreading(kernel='rbf', alpha=0.2).fit(semi[[\"hours\"]], partial)\n",
    "filled = ls.transduction_\n",
    "\n",
    "# Train a small classifier on the filled labels to predict any hours value\n",
    "clf = LogisticRegression().fit(semi[[\"hours\"]], filled)\n",
    "\n",
    "# EDIT THIS LINE to choose hours for a prediction using the classifier trained on filled labels\n",
    "TEST_HOURS_SEMI = 6.5   # 👈 EDIT THIS\n",
    "p_pass = clf.predict_proba(np.array([[TEST_HOURS_SEMI]]))[:,1][0]\n",
    "label = int(p_pass>=0.5)\n",
    "\n",
    "# Plot filled labels + your test\n",
    "plt.figure()\n",
    "plt.scatter(semi[\"hours\"], [0.02 if l==0 else 0.98 for l in filled], label=\"filled labels\")\n",
    "plt.scatter([TEST_HOURS_SEMI], [0.5], color=\"red\", marker=\"*\", s=160, label=\"your test (prob below)\")\n",
    "plt.yticks([0.02, 0.5, 0.98], [\"fail\", \"your test\", \"pass\"])\n",
    "plt.xlabel(\"Hours\"); plt.ylabel(\"Label / test marker\"); plt.title(\"LabelSpreading → classifier\")\n",
    "plt.legend(); plt.show()\n",
    "\n",
    "display(HTML(f\"<b>Semi-supervised prediction:</b> At \"\n",
    "             f\"<span style='color:#d32f2f;font-weight:bold'>{TEST_HOURS_SEMI} hours</span> \"\n",
    "             f\"→ P(pass)=<span style='color:#d32f2f;font-weight:bold'>{p_pass:.2f}</span> → label \"\n",
    "             f\"<span style='color:#d32f2f;font-weight:bold'>{label}</span>\"))"
   ]
  },
  {
   "cell_type": "markdown",
   "id": "52906c4f",
   "metadata": {},
   "source": [
    "### Explaining the output\n",
    "- LabelSpreading **propagates** known labels to unlabeled points using feature similarity.  \n",
    "- Training a small classifier afterwards lets us predict for **any** new input.  \n",
    "- Be cautious: if early labels are wrong, propagation can **spread errors**.\n",
    "\n",
    "> “Good” outcome: predictions that agree with a held‑out labelled subset when available."
   ]
  },
  {
   "cell_type": "markdown",
   "id": "703c846a",
   "metadata": {},
   "source": [
    "> **Try it yourself**  \n",
    "> • Change `TEST_HOURS_SEMI` to 3, 9 and see probabilities.  \n",
    "> • Extension: alter which labels are initially known in `partial` and observe how the filled labels change."
   ]
  },
  {
   "cell_type": "code",
   "execution_count": null,
   "id": "1cd47c34",
   "metadata": {},
   "outputs": [],
   "source": [
    "# TEACHER SOLUTION\n",
    "print(\"— Semi-supervised: Teacher solution —\")\n",
    "agree = (filled == true_lbl).mean()\n",
    "print(f\"Filled-vs-true agreement: {agree:.2f}\")"
   ]
  },
  {
   "cell_type": "markdown",
   "id": "72122b7c",
   "metadata": {},
   "source": [
    "## 10) Reinforcement Learning — ε-greedy 3-path (with cumulative reward)"
   ]
  },
  {
   "cell_type": "code",
   "execution_count": null,
   "id": "e019f2af",
   "metadata": {},
   "outputs": [],
   "source": [
    "import random\n",
    "true_means = [0.3, 0.6, 0.8]\n",
    "\n",
    "def pull(a): return 1.0 if random.random() < true_means[a] else 0.0\n",
    "\n",
    "eps = 0.1\n",
    "Q = [0.0, 0.0, 0.0]; N = [0,0,0]; rewards = []\n",
    "for t in range(1, 801):\n",
    "    a = random.randrange(3) if random.random() < eps else max(range(3), key=lambda i: Q[i])\n",
    "    r = pull(a); rewards.append(r)\n",
    "    N[a] += 1; Q[a] += (r - Q[a]) / N[a]\n",
    "\n",
    "# EDIT THIS LINE to choose which action to inspect now\n",
    "TEST_ACTION = 2   # 👈 EDIT THIS\n",
    "est = Q[TEST_ACTION]\n",
    "\n",
    "cum = np.cumsum(rewards)\n",
    "plt.figure(); plt.plot(cum)\n",
    "plt.xlabel(\"Steps\"); plt.ylabel(\"Cumulative reward\"); plt.title(\"ε-greedy learning\"); plt.show()\n",
    "\n",
    "display(HTML(f\"<b>RL current estimate:</b> For action \"\n",
    "             f\"<span style='color:#d32f2f;font-weight:bold'>{TEST_ACTION}</span> \"\n",
    "             f\"→ Q = <span style='color:#d32f2f;font-weight:bold'>{est:.3f}</span> \"\n",
    "             f\"(true means: {true_means})\"))"
   ]
  },
  {
   "cell_type": "markdown",
   "id": "a64a819e",
   "metadata": {},
   "source": [
    "### Explaining the output\n",
    "- **ε‑greedy**: with probability ε **explore**, otherwise **exploit** the best‑estimated action.  \n",
    "- **Cumulative reward** should rise faster as the agent identifies the best arm (0.8).  \n",
    "- **Q estimates** approach the true means as each arm is sampled more.\n",
    "\n",
    "> “Good” learning: the best arm’s **pull count** dominates; Q for that arm stabilises near its true mean."
   ]
  },
  {
   "cell_type": "markdown",
   "id": "98179058",
   "metadata": {},
   "source": [
    "> **Try it yourself**  \n",
    "> • Change `TEST_ACTION` to 0/1/2 to view current estimates.  \n",
    "> • Extension: set `eps = 0.01` or `0.3` and re‑run to compare exploration vs exploitation."
   ]
  },
  {
   "cell_type": "code",
   "execution_count": null,
   "id": "5c85c478",
   "metadata": {},
   "outputs": [],
   "source": [
    "# TEACHER SOLUTION\n",
    "print(\"— RL: Teacher solution —\")\n",
    "print(\"Lower ε → faster exploitation but risk missing the best; higher ε → more exploration and slower convergence.\")"
   ]
  },
  {
   "cell_type": "markdown",
   "id": "5e30aa4b",
   "metadata": {},
   "source": [
    "## 11) Save & Load — Persist the fruit KNN pipeline and test an item"
   ]
  },
  {
   "cell_type": "code",
   "execution_count": null,
   "id": "5083a666",
   "metadata": {},
   "outputs": [],
   "source": [
    "# Train and save\n",
    "fruit = pd.DataFrame({\n",
    "    \"weight_g\":   [120, 130, 140, 150, 160, 170, 180, 190],\n",
    "    \"sweetness\":  [  6,   7,   6,   8,   7,   9,   8,  10],\n",
    "    \"label\":      [\"apple\",\"apple\",\"apple\",\"orange\",\"apple\",\"orange\",\"orange\",\"orange\"]\n",
    "})\n",
    "Xf = fruit[[\"weight_g\",\"sweetness\"]]; yf = fruit[\"label\"]\n",
    "pipe = KNeighborsClassifier(n_neighbors=3).fit(Xf, yf)\n",
    "joblib.dump(pipe, \"/mnt/data/fruit_knn_pipeline.joblib\")\n",
    "loaded = joblib.load(\"/mnt/data/fruit_knn_pipeline.joblib\")\n",
    "\n",
    "# EDIT THESE LINES to test the saved model\n",
    "TEST_WEIGHT_SAVED = 165  # 👈 EDIT THIS\n",
    "TEST_SWEET_SAVED  = 8.0  # 👈 EDIT THIS\n",
    "\n",
    "pred_saved = loaded.predict(pd.DataFrame({\"weight_g\":[TEST_WEIGHT_SAVED], \"sweetness\":[TEST_SWEET_SAVED]}))[0]\n",
    "display(HTML(f\"<b>Saved-model prediction:</b> For \"\n",
    "             f\"weight_g=<span style='color:#d32f2f;font-weight:bold'>{TEST_WEIGHT_SAVED}</span>, \"\n",
    "             f\"sweetness=<span style='color:#d32f2f;font-weight:bold'>{TEST_SWEET_SAVED}</span> \"\n",
    "             f\"→ type = <span style='color:#d32f2f;font-weight:bold'>{pred_saved}</span>\"))"
   ]
  },
  {
   "cell_type": "markdown",
   "id": "3353b165",
   "metadata": {},
   "source": [
    "### Explaining the output\n",
    "- Saving lets you reuse a trained model later without retraining.  \n",
    "- In bigger projects, save a **Pipeline** with preprocessing so steps are identical at inference time."
   ]
  },
  {
   "cell_type": "markdown",
   "id": "f52f5662",
   "metadata": {},
   "source": [
    "> **Try it yourself**  \n",
    "> • Change `TEST_WEIGHT_SAVED`/`TEST_SWEET_SAVED` and confirm the saved model behaves like the live one.  \n",
    "> • Extension: retrain with different training points and compare predictions after saving."
   ]
  },
  {
   "cell_type": "code",
   "execution_count": null,
   "id": "92349db0",
   "metadata": {},
   "outputs": [],
   "source": [
    "# TEACHER SOLUTION\n",
    "print(\"— Save/Load: Teacher solution —\")\n",
    "print(\"Joblib persists model parameters; use version control to track when/why models change.\")"
   ]
  }
 ],
 "metadata": {
  "kernelspec": {
   "display_name": ".venv (3.12.1)",
   "language": "python",
   "name": "python3"
  },
  "language_info": {
   "codemirror_mode": {
    "name": "ipython",
    "version": 3
   },
   "file_extension": ".py",
   "mimetype": "text/x-python",
   "name": "python",
   "nbconvert_exporter": "python",
   "pygments_lexer": "ipython3",
   "version": "3.12.1"
  }
 },
 "nbformat": 4,
 "nbformat_minor": 5
}
